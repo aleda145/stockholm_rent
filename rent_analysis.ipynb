{
 "nbformat": 4,
 "nbformat_minor": 2,
 "metadata": {
  "language_info": {
   "name": "python",
   "codemirror_mode": {
    "name": "ipython",
    "version": 3
   },
   "version": "3.7.5"
  },
  "orig_nbformat": 2,
  "file_extension": ".py",
  "mimetype": "text/x-python",
  "name": "python",
  "npconvert_exporter": "python",
  "pygments_lexer": "ipython3",
  "version": 3
 },
 "cells": [
  {
   "cell_type": "code",
   "execution_count": 13,
   "metadata": {},
   "outputs": [],
   "source": [
    "import pandas as pd \n",
    "import json\n",
    "from pandas.io.json import json_normalize\n",
    "import ast"
   ]
  },
  {
   "cell_type": "code",
   "execution_count": 14,
   "metadata": {},
   "outputs": [],
   "source": [
    "with open('clean_json_list.txt','r') as f:\n",
    "    json_list_raw = f.read()\n",
    "\n",
    "json_list = ast.literal_eval(json_list_raw)\n"
   ]
  },
  {
   "cell_type": "code",
   "execution_count": 23,
   "metadata": {},
   "outputs": [
    {
     "name": "stdout",
     "output_type": "stream",
     "text": "<class 'dict'>\n[{'currency': 'SEK', 'external': False, 'fee': 247, 'firsthand': False, 'homeStatus': 'normal', 'homeType': 'apartment', 'id': 68845, 'links': {'en': 'https://bostad.blocket.se/rent/apartment/fliserydsvagen-monsteras/68845', 'sv': 'https://bostad.blocket.se/hyra/lagenhet/fliserydsvagen-monsteras/68845'}, 'origin': None, 'rent': 4938, 'recommendedRent': 6651, 'roomCount': 2, 'squareMeters': 63, 'shared': False, 'studentHome': False, 'applicationCount': 1, 'inContactCount': 1, 'declinedCount': 0, 'matchingCount': 7, 'safeRental': False, 'professional': False, 'landlordApplicationId': None, 'duration': {'start': {'asap': False, 'optimal': '2020-03-01T00:00:00.000Z'}, 'end': {'ufn': True}}, 'location': {'placeId': 'ChIJ4ab_zOLuV0YRZR0gC65ihT8', 'country': 'Sverige', 'countryCode': 'SE', 'locality': 'Mönsterås', 'postalCode': '38339', 'sublocality': None, 'route': 'Fliserydsvägen', 'streetNumber': '4', 'formattedAddress': 'Fliserydsvägen 4D, 383 39 Mönsterås, Sverige', 'shortName': None, 'latitude': '57.0504772', 'longitude': '16.437143'}, 'uploads': [{'id': 888906, 'title': 'Jenn y Blom.png', 'fileType': 'image', 'uploadType': 'home_picture', 'url': 'https://qasa-static-prod.s3-eu-west-1.amazonaws.com/img/510d1ec2f97703ce873366041a0069a8f0c2fe9a3956e73ea1c11ba1f0ad3f74.png', 'metadata': {'order': None, 'rotation': None, 'primary': False}}]}, {'currency': 'SEK', 'external': False, 'fee': 550, 'firsthand': False, 'homeStatus': 'normal', 'homeType': 'apartment', 'id': 68818, 'links': {'en': 'https://bostad.blocket.se/rent/apartment/norrbyvagen-stockholm/68818', 'sv': 'https://bostad.blocket.se/hyra/lagenhet/norrbyvagen-stockholm/68818'}, 'origin': None, 'rent': 11000, 'recommendedRent': 10076, 'roomCount': 1.5, 'squareMeters': 34, 'shared': False, 'studentHome': False, 'applicationCount': 2, 'inContactCount': 0, 'declinedCount': 0, 'matchingCount': 1643, 'safeRental': False, 'professional': False, 'landlordApplicationId': None, 'duration': {'start': {'asap': True, 'optimal': None}, 'end': {'ufn': False, 'optimal': '2020-08-30T00:00:00.000Z'}}, 'location': {'placeId': 'ChIJh7-kBfmdX0YRLAopkkKdmLs', 'country': 'Sverige', 'countryCode': 'SE', 'locality': 'Stockholm', 'postalCode': 'Bromma', 'sublocality': None, 'route': 'Norrbyvägen', 'streetNumber': '16', 'formattedAddress': 'Norrbyvägen 16, 168 69 Bromma, Sverige', 'shortName': None, 'latitude': '59.345287', 'longitude': '17.9614869'}, 'uploads': [{'id': 888761, 'title': 'IMG_7681.JPG', 'fileType': 'image', 'uploadType': 'home_picture', 'url': 'https://qasa-static-prod.s3-eu-west-1.amazonaws.com/img/e24302613e4c69e619191c2b4ef040fec13d4cdf1276b2790fcea25abb1eec48.jpg', 'metadata': {'order': 2, 'rotation': None, 'primary': True}}]}, {'currency': 'SEK', 'external': False, 'fee': 398, 'firsthand': False, 'homeStatus': 'normal', 'homeType': 'apartment', 'id': 68842, 'links': {'en': 'https://bostad.blocket.se/rent/apartment/skolgatan-monsteras/68842', 'sv': 'https://bostad.blocket.se/hyra/lagenhet/skolgatan-monsteras/68842'}, 'origin': None, 'rent': 7950, 'recommendedRent': 8783, 'roomCount': 4, 'squareMeters': 90, 'shared': False, 'studentHome': False, 'applicationCount': 0, 'inContactCount': 0, 'declinedCount': 0, 'matchingCount': 31, 'safeRental': False, 'professional': False, 'landlordApplicationId': None, 'duration': {'start': {'asap': True, 'optimal': '2020-01-01T00:00:00.000Z'}, 'end': {'ufn': True}}, 'location': {'placeId': 'ChIJf7QlwhjvV0YRC67DPeBgM0I', 'country': 'Sverige', 'countryCode': 'SE', 'locality': 'Mönsterås', 'postalCode': '38330', 'sublocality': None, 'route': 'Skolgatan', 'streetNumber': '10', 'formattedAddress': 'Skolgatan 10, 383 30 Mönsterås, Sverige', 'shortName': None, 'latitude': '57.039853', 'longitude': '16.4449374'}, 'uploads': []}, {'currency': 'SEK', 'external': False, 'fee': 400, 'firsthand': False, 'homeStatus': 'normal', 'homeType': 'apartment', 'id': 68846, 'links': {'en': 'https://bostad.blocket.se/rent/apartment/portlidervagen-vasteras/68846', 'sv': 'https://bostad.blocket.se/hyra/lagenhet/portlidervagen-vasteras/68846'}, 'origin': None, 'rent': 8000, 'recommendedRent': 8502, 'roomCount': 3, 'squareMeters': 68, 'shared': False, 'studentHome': False, 'applicationCount': 0, 'inContactCount': 0, 'declinedCount': 0, 'matchingCount': 52, 'safeRental': True, 'professional': False, 'landlordApplicationId': None, 'duration': {'start': {'asap': False, 'optimal': '2020-01-15T00:00:00.000Z'}, 'end': {'ufn': False, 'optimal': '2020-02-15T00:00:00.000Z'}}, 'location': {'placeId': 'ChIJ0SZzf1hhXkYRZsPYATE7jOk', 'country': 'Sverige', 'countryCode': 'SE', 'locality': 'Västerås', 'postalCode': '724 80', 'sublocality': None, 'route': 'Portlidervägen', 'streetNumber': '2', 'formattedAddress': 'Portlidervägen, 724 80 Västerås, Sverige', 'shortName': None, 'latitude': '59.6197193', 'longitude': '16.5057662'}, 'uploads': [{'id': 888908, 'title': 'House.jpg', 'fileType': 'image', 'uploadType': 'home_picture', 'url': 'https://qasa-static-prod.s3-eu-west-1.amazonaws.com/img/5e10ea4f76ac3e576bb8023aad126d3eaba5d94a9f5a32304a0c6052e01986ba.jpg', 'metadata': {'order': None, 'rotation': None, 'primary': False}}]}, {'currency': 'SEK', 'external': False, 'fee': 680, 'firsthand': False, 'homeStatus': 'normal', 'homeType': 'apartment', 'id': 68793, 'links': {'en': 'https://bostad.blocket.se/rent/apartment/stabbegatan-goteborg/68793', 'sv': 'https://bostad.blocket.se/hyra/lagenhet/stabbegatan-goteborg/68793'}, 'origin': None, 'rent': 13600, 'recommendedRent': 10597, 'roomCount': 3, 'squareMeters': 62, 'shared': False, 'studentHome': False, 'applicationCount': 0, 'inContactCount': 0, 'declinedCount': 0, 'matchingCount': 179, 'safeRental': False, 'professional': False, 'landlordApplicationId': None, 'duration': {'start': {'asap': False, 'optimal': '2020-02-02T00:00:00.000Z'}, 'end': {'ufn': False, 'optimal': '2021-02-02T00:00:00.000Z'}}, 'location': {'placeId': 'ChIJp1-OpA_0T0YRnepcZHdrDOA', 'country': 'Sverige', 'countryCode': 'SE', 'locality': 'Göteborg', 'postalCode': '416 80', 'sublocality': None, 'route': 'Stabbegatan', 'streetNumber': '59', 'formattedAddress': 'Stabbegatan, 416 80 Göteborg, Sverige', 'shortName': None, 'latitude': '57.7161161', 'longitude': '12.0477401'}, 'uploads': [{'id': 888302, 'title': '20191219_204236.jpg', 'fileType': 'image', 'uploadType': 'home_picture', 'url': 'https://qasa-static-prod.s3-eu-west-1.amazonaws.com/img/4f665de4335bf4af97ab4237ce7b7770bfdf2ac07109ecdf7f743aaf47a9eb05.jpg', 'metadata': {'order': None, 'rotation': None, 'primary': False}}]}, {'currency': 'SEK', 'external': False, 'fee': 231, 'firsthand': False, 'homeStatus': 'normal', 'homeType': 'apartment', 'id': 68499, 'links': {'en': 'https://bostad.blocket.se/rent/apartment/skansgatan-morbylanga/68499', 'sv': 'https://bostad.blocket.se/hyra/lagenhet/skansgatan-morbylanga/68499'}, 'origin': None, 'rent': 4628, 'recommendedRent': 6506, 'roomCount': 2, 'squareMeters': 60, 'shared': False, 'studentHome': False, 'applicationCount': 2, 'inContactCount': 0, 'declinedCount': 1, 'matchingCount': 27, 'safeRental': False, 'professional': False, 'landlordApplicationId': None, 'duration': {'start': {'asap': False, 'optimal': '2020-01-01T00:00:00.000Z'}, 'end': {'ufn': True}}, 'location': {'placeId': 'ChIJi3qe7Q8rVkYRSE53qBWLe8w', 'country': 'Sverige', 'countryCode': 'SE', 'locality': 'Mörbylånga', 'postalCode': '38062', 'sublocality': None, 'route': 'Skansgatan', 'streetNumber': '1', 'formattedAddress': 'Skansgatan 1, 380 62 Mörbylånga, Sverige', 'shortName': None, 'latitude': '56.5255925', 'longitude': '16.3794876'}, 'uploads': []}, {'currency': 'SEK', 'external': False, 'fee': 285, 'firsthand': False, 'homeStatus': 'normal', 'homeType': 'apartment', 'id': 68837, 'links': {'en': 'https://bostad.blocket.se/rent/apartment/vastra-gransgatan-lonsboda/68837', 'sv': 'https://bostad.blocket.se/hyra/lagenhet/vastra-gransgatan-lonsboda/68837'}, 'origin': None, 'rent': 5700, 'recommendedRent': 5360, 'roomCount': 2, 'squareMeters': 59, 'shared': False, 'studentHome': False, 'applicationCount': 0, 'inContactCount': 0, 'declinedCount': 0, 'matchingCount': 30, 'safeRental': False, 'professional': False, 'landlordApplicationId': None, 'duration': {'start': {'asap': True, 'optimal': None}, 'end': {'ufn': True}}, 'location': {'placeId': 'ChIJl4xUXwO3VkYR8WigUeKDUT4', 'country': 'Sverige', 'countryCode': 'SE', 'locality': 'Lönsboda', 'postalCode': '283 71', 'sublocality': None, 'route': 'Västra Gränsgatan', 'streetNumber': '12', 'formattedAddress': 'Västra Gränsgatan, 280 70 Lönsboda, Sverige', 'shortName': None, 'latitude': '56.3989085', 'longitude': '14.3136213'}, 'uploads': [{'id': 888859, 'title': 'IMG_2030.jpg', 'fileType': 'image', 'uploadType': 'home_picture', 'url': 'https://qasa-static-prod.s3-eu-west-1.amazonaws.com/img/2b71fc4f69ee12ba294b9210e8b2134abd76d1141c7c446ea975b4824cedf590.jpg', 'metadata': {'order': None, 'rotation': None, 'primary': False}}]}, {'currency': 'SEK', 'external': False, 'fee': 129, 'firsthand': False, 'homeStatus': 'normal', 'homeType': 'apartment', 'id': 68822, 'links': {'en': 'https://bostad.blocket.se/rent/room-in-apartment/sorgardsgatan-linkoping/68822', 'sv': 'https://bostad.blocket.se/hyra/rum-i-lagenhet/sorgardsgatan-linkoping/68822'}, 'origin': None, 'rent': 2588, 'recommendedRent': 4461, 'roomCount': 1, 'squareMeters': 18, 'shared': True, 'studentHome': False, 'applicationCount': 2, 'inContactCount': 0, 'declinedCount': 0, 'matchingCount': 47, 'safeRental': False, 'professional': False, 'landlordApplicationId': None, 'duration': {'start': {'asap': True, 'optimal': None}, 'end': {'ufn': True}}, 'location': {'placeId': 'ChIJQ6E3H1dvWUYRATa3OAbAYBs', 'country': 'Sverige', 'countryCode': 'SE', 'locality': 'Linköping', 'postalCode': '586 45', 'sublocality': None, 'route': 'Sörgårdsgatan', 'streetNumber': '43', 'formattedAddress': 'Sörgårdsgatan, 586 45 Linköping, Sverige', 'shortName': None, 'latitude': '58.4229381', 'longitude': '15.5750264'}, 'uploads': [{'id': 888824, 'title': 'IMG_20191215_141853.jpg', 'fileType': 'image', 'uploadType': 'home_picture', 'url': 'https://qasa-static-prod.s3-eu-west-1.amazonaws.com/img/a76725b9104860d10b8c1918a0c56bfe3a09d082823721b993811ba0f95fc33e.jpg', 'metadata': {'order': 3, 'rotation': None, 'primary': True}}]}, {'currency': 'SEK', 'external': False, 'fee': 375, 'firsthand': False, 'homeStatus': 'normal', 'homeType': 'apartment', 'id': 68831, 'links': {'en': 'https://bostad.blocket.se/rent/apartment/smyckegatan-vastra-frolunda/68831', 'sv': 'https://bostad.blocket.se/hyra/lagenhet/smyckegatan-vastra-frolunda/68831'}, 'origin': None, 'rent': 7500, 'recommendedRent': 8099, 'roomCount': 1.5, 'squareMeters': 41, 'shared': False, 'studentHome': False, 'applicationCount': 18, 'inContactCount': 0, 'declinedCount': 0, 'matchingCount': 970, 'safeRental': False, 'professional': False, 'landlordApplicationId': None, 'duration': {'start': {'asap': True, 'optimal': '2020-01-12T00:00:00.000Z'}, 'end': {'ufn': True}}, 'location': {'placeId': 'ChIJMVU8ksryT0YRa62YHm3bL5Y', 'country': 'Sverige', 'countryCode': 'SE', 'locality': 'VÄSTRA FRÖLUNDA', 'postalCode': '42650', 'sublocality': None, 'route': 'Smyckegatan', 'streetNumber': 'Smyckegatan', 'formattedAddress': 'Smyckegatan, Göteborg, Sverige', 'shortName': None, 'latitude': '57.6538093', 'longitude': '11.9009987'}, 'uploads': [{'id': 888849, 'title': 'sp.jpg', 'fileType': 'image', 'uploadType': 'home_picture', 'url': 'https://qasa-static-prod.s3-eu-west-1.amazonaws.com/img/9fc9ad008b5b6824059f4f98a362695ba0e28579bff98bdc78f43fcf1dd3d12d.jpg', 'metadata': {'order': None, 'rotation': None, 'primary': False}}]}, {'currency': 'SEK', 'external': False, 'fee': 150, 'firsthand': False, 'homeStatus': 'normal', 'homeType': 'corridor', 'id': 68815, 'links': {'en': 'https://bostad.blocket.se/rent/room-in-corridor/kavlingevagen-lund/68815', 'sv': 'https://bostad.blocket.se/hyra/rum-i-korridor/kavlingevagen-lund/68815'}, 'origin': None, 'rent': 3000, 'recommendedRent': 7319, 'roomCount': 5, 'squareMeters': 24, 'shared': True, 'studentHome': False, 'applicationCount': 3, 'inContactCount': 0, 'declinedCount': 0, 'matchingCount': 161, 'safeRental': False, 'professional': False, 'landlordApplicationId': None, 'duration': {'start': {'asap': False, 'optimal': '2020-01-02T00:00:00.000Z'}, 'end': {'ufn': True}}, 'location': {'placeId': 'ChIJ-3ko_oa9U0YRBup3E9lyMYA', 'country': 'Sverige', 'countryCode': 'SE', 'locality': 'Lund', 'postalCode': '226 50', 'sublocality': None, 'route': 'Kävlingevägen', 'streetNumber': '110', 'formattedAddress': 'Kävlingevägen, Lund, Sverige', 'shortName': None, 'latitude': '55.7264192', 'longitude': '13.1807406'}, 'uploads': [{'id': 888728, 'title': 'IMG_20191201_092207.jpg', 'fileType': 'image', 'uploadType': 'home_picture', 'url': 'https://qasa-static-prod.s3-eu-west-1.amazonaws.com/img/f8dfa8358749f719bbc818a15b044ec234b2d049f1701a87ba5784a4865cc20c.jpg', 'metadata': {'order': None, 'rotation': None, 'primary': False}}]}, {'currency': 'SEK', 'external': False, 'fee': 225, 'firsthand': False, 'homeStatus': 'normal', 'homeType': 'apartment', 'id': 68803, 'links': {'en': 'https://bostad.blocket.se/rent/apartment/bankogardsgatan-helsingborg/68803', 'sv': 'https://bostad.blocket.se/hyra/lagenhet/bankogardsgatan-helsingborg/68803'}, 'origin': None, 'rent': 4500, 'recommendedRent': 5287, 'roomCount': 2, 'squareMeters': 35, 'shared': False, 'studentHome': False, 'applicationCount': 3, 'inContactCount': 0, 'declinedCount': 0, 'matchingCount': 174, 'safeRental': False, 'professional': False, 'landlordApplicationId': None, 'duration': {'start': {'asap': False, 'optimal': '2020-01-01T00:00:00.000Z'}, 'end': {'ufn': True}}, 'location': {'placeId': 'ChIJSasothwzUkYR83wthF45tlw', 'country': 'Sverige', 'countryCode': 'SE', 'locality': 'Helsingborg', 'postalCode': '256 55', 'sublocality': None, 'route': 'Bankogårdsgatan ', 'streetNumber': '40', 'formattedAddress': 'Bankogårdsgatan, 256 55 Helsingborg, Sverige', 'shortName': None, 'latitude': '56.0338745', 'longitude': '12.7411799'}, 'uploads': [{'id': 888624, 'title': 'IMG_1780.jpg', 'fileType': 'image', 'uploadType': 'home_picture', 'url': 'https://qasa-static-prod.s3-eu-west-1.amazonaws.com/img/bff9672b429fc178c34dbcb292eb37e13f235f767715f335d3355c317fba18e7.jpg', 'metadata': {'order': 1, 'rotation': None, 'primary': True}}]}, {'currency': 'SEK', 'external': False, 'fee': 375, 'firsthand': False, 'homeStatus': 'normal', 'homeType': 'apartment', 'id': 68496, 'links': {'en': 'https://bostad.blocket.se/rent/apartment/storgatan-nordmaling/68496', 'sv': 'https://bostad.blocket.se/hyra/lagenhet/storgatan-nordmaling/68496'}, 'origin': None, 'rent': 7500, 'recommendedRent': 7023, 'roomCount': 3, 'squareMeters': 85, 'shared': False, 'studentHome': False, 'applicationCount': 0, 'inContactCount': 0, 'declinedCount': 0, 'matchingCount': 1, 'safeRental': False, 'professional': False, 'landlordApplicationId': None, 'duration': {'start': {'asap': False, 'optimal': '2020-03-01T00:00:00.000Z'}, 'end': {'ufn': True}}, 'location': {'placeId': 'ChIJt2mte8-RfEYRPRIm09VKdZE', 'country': 'Sverige', 'countryCode': 'SE', 'locality': 'Nordmaling', 'postalCode': '91433', 'sublocality': None, 'route': 'Storgatan', 'streetNumber': '24', 'formattedAddress': 'Storgatan 24, 914 33 Nordmaling, Sverige', 'shortName': None, 'latitude': '63.5657676', 'longitude': '19.4996938'}, 'uploads': []}]\n"
    }
   ],
   "source": [
    "for sub in json_list:\n",
    "    #print(sub)\n",
    "    print(type(sub))\n",
    "    print(sub['homes'])\n",
    "    df = pd.DataFrame.from_dict(sub['homes'])\n",
    "    #d = json.loads(sub)\n",
    "   # print(d)\n",
    "    #df = pd.read_json(d)\n",
    "    break"
   ]
  },
  {
   "cell_type": "code",
   "execution_count": 44,
   "metadata": {},
   "outputs": [
    {
     "data": {
      "text/html": "<div>\n<style scoped>\n    .dataframe tbody tr th:only-of-type {\n        vertical-align: middle;\n    }\n\n    .dataframe tbody tr th {\n        vertical-align: top;\n    }\n\n    .dataframe thead th {\n        text-align: right;\n    }\n</style>\n<table border=\"1\" class=\"dataframe\">\n  <thead>\n    <tr style=\"text-align: right;\">\n      <th></th>\n      <th>currency</th>\n      <th>external</th>\n      <th>fee</th>\n      <th>firsthand</th>\n      <th>homeStatus</th>\n      <th>homeType</th>\n      <th>id</th>\n      <th>links</th>\n      <th>origin</th>\n      <th>rent</th>\n      <th>...</th>\n      <th>applicationCount</th>\n      <th>inContactCount</th>\n      <th>declinedCount</th>\n      <th>matchingCount</th>\n      <th>safeRental</th>\n      <th>professional</th>\n      <th>landlordApplicationId</th>\n      <th>duration</th>\n      <th>location</th>\n      <th>uploads</th>\n    </tr>\n  </thead>\n  <tbody>\n    <tr>\n      <th>0</th>\n      <td>SEK</td>\n      <td>False</td>\n      <td>247</td>\n      <td>False</td>\n      <td>normal</td>\n      <td>apartment</td>\n      <td>68845</td>\n      <td>{'en': 'https://bostad.blocket.se/rent/apartme...</td>\n      <td>None</td>\n      <td>4938</td>\n      <td>...</td>\n      <td>1</td>\n      <td>1</td>\n      <td>0</td>\n      <td>7</td>\n      <td>False</td>\n      <td>False</td>\n      <td>None</td>\n      <td>{'start': {'asap': False, 'optimal': '2020-03-...</td>\n      <td>{'placeId': 'ChIJ4ab_zOLuV0YRZR0gC65ihT8', 'co...</td>\n      <td>[{'id': 888906, 'title': 'Jenn y Blom.png', 'f...</td>\n    </tr>\n    <tr>\n      <th>1</th>\n      <td>SEK</td>\n      <td>False</td>\n      <td>550</td>\n      <td>False</td>\n      <td>normal</td>\n      <td>apartment</td>\n      <td>68818</td>\n      <td>{'en': 'https://bostad.blocket.se/rent/apartme...</td>\n      <td>None</td>\n      <td>11000</td>\n      <td>...</td>\n      <td>2</td>\n      <td>0</td>\n      <td>0</td>\n      <td>1643</td>\n      <td>False</td>\n      <td>False</td>\n      <td>None</td>\n      <td>{'start': {'asap': True, 'optimal': None}, 'en...</td>\n      <td>{'placeId': 'ChIJh7-kBfmdX0YRLAopkkKdmLs', 'co...</td>\n      <td>[{'id': 888761, 'title': 'IMG_7681.JPG', 'file...</td>\n    </tr>\n    <tr>\n      <th>2</th>\n      <td>SEK</td>\n      <td>False</td>\n      <td>398</td>\n      <td>False</td>\n      <td>normal</td>\n      <td>apartment</td>\n      <td>68842</td>\n      <td>{'en': 'https://bostad.blocket.se/rent/apartme...</td>\n      <td>None</td>\n      <td>7950</td>\n      <td>...</td>\n      <td>0</td>\n      <td>0</td>\n      <td>0</td>\n      <td>31</td>\n      <td>False</td>\n      <td>False</td>\n      <td>None</td>\n      <td>{'start': {'asap': True, 'optimal': '2020-01-0...</td>\n      <td>{'placeId': 'ChIJf7QlwhjvV0YRC67DPeBgM0I', 'co...</td>\n      <td>[]</td>\n    </tr>\n    <tr>\n      <th>3</th>\n      <td>SEK</td>\n      <td>False</td>\n      <td>400</td>\n      <td>False</td>\n      <td>normal</td>\n      <td>apartment</td>\n      <td>68846</td>\n      <td>{'en': 'https://bostad.blocket.se/rent/apartme...</td>\n      <td>None</td>\n      <td>8000</td>\n      <td>...</td>\n      <td>0</td>\n      <td>0</td>\n      <td>0</td>\n      <td>52</td>\n      <td>True</td>\n      <td>False</td>\n      <td>None</td>\n      <td>{'start': {'asap': False, 'optimal': '2020-01-...</td>\n      <td>{'placeId': 'ChIJ0SZzf1hhXkYRZsPYATE7jOk', 'co...</td>\n      <td>[{'id': 888908, 'title': 'House.jpg', 'fileTyp...</td>\n    </tr>\n    <tr>\n      <th>4</th>\n      <td>SEK</td>\n      <td>False</td>\n      <td>680</td>\n      <td>False</td>\n      <td>normal</td>\n      <td>apartment</td>\n      <td>68793</td>\n      <td>{'en': 'https://bostad.blocket.se/rent/apartme...</td>\n      <td>None</td>\n      <td>13600</td>\n      <td>...</td>\n      <td>0</td>\n      <td>0</td>\n      <td>0</td>\n      <td>179</td>\n      <td>False</td>\n      <td>False</td>\n      <td>None</td>\n      <td>{'start': {'asap': False, 'optimal': '2020-02-...</td>\n      <td>{'placeId': 'ChIJp1-OpA_0T0YRnepcZHdrDOA', 'co...</td>\n      <td>[{'id': 888302, 'title': '20191219_204236.jpg'...</td>\n    </tr>\n    <tr>\n      <th>5</th>\n      <td>SEK</td>\n      <td>False</td>\n      <td>231</td>\n      <td>False</td>\n      <td>normal</td>\n      <td>apartment</td>\n      <td>68499</td>\n      <td>{'en': 'https://bostad.blocket.se/rent/apartme...</td>\n      <td>None</td>\n      <td>4628</td>\n      <td>...</td>\n      <td>2</td>\n      <td>0</td>\n      <td>1</td>\n      <td>27</td>\n      <td>False</td>\n      <td>False</td>\n      <td>None</td>\n      <td>{'start': {'asap': False, 'optimal': '2020-01-...</td>\n      <td>{'placeId': 'ChIJi3qe7Q8rVkYRSE53qBWLe8w', 'co...</td>\n      <td>[]</td>\n    </tr>\n    <tr>\n      <th>6</th>\n      <td>SEK</td>\n      <td>False</td>\n      <td>285</td>\n      <td>False</td>\n      <td>normal</td>\n      <td>apartment</td>\n      <td>68837</td>\n      <td>{'en': 'https://bostad.blocket.se/rent/apartme...</td>\n      <td>None</td>\n      <td>5700</td>\n      <td>...</td>\n      <td>0</td>\n      <td>0</td>\n      <td>0</td>\n      <td>30</td>\n      <td>False</td>\n      <td>False</td>\n      <td>None</td>\n      <td>{'start': {'asap': True, 'optimal': None}, 'en...</td>\n      <td>{'placeId': 'ChIJl4xUXwO3VkYR8WigUeKDUT4', 'co...</td>\n      <td>[{'id': 888859, 'title': 'IMG_2030.jpg', 'file...</td>\n    </tr>\n    <tr>\n      <th>7</th>\n      <td>SEK</td>\n      <td>False</td>\n      <td>129</td>\n      <td>False</td>\n      <td>normal</td>\n      <td>apartment</td>\n      <td>68822</td>\n      <td>{'en': 'https://bostad.blocket.se/rent/room-in...</td>\n      <td>None</td>\n      <td>2588</td>\n      <td>...</td>\n      <td>2</td>\n      <td>0</td>\n      <td>0</td>\n      <td>47</td>\n      <td>False</td>\n      <td>False</td>\n      <td>None</td>\n      <td>{'start': {'asap': True, 'optimal': None}, 'en...</td>\n      <td>{'placeId': 'ChIJQ6E3H1dvWUYRATa3OAbAYBs', 'co...</td>\n      <td>[{'id': 888824, 'title': 'IMG_20191215_141853....</td>\n    </tr>\n    <tr>\n      <th>8</th>\n      <td>SEK</td>\n      <td>False</td>\n      <td>375</td>\n      <td>False</td>\n      <td>normal</td>\n      <td>apartment</td>\n      <td>68831</td>\n      <td>{'en': 'https://bostad.blocket.se/rent/apartme...</td>\n      <td>None</td>\n      <td>7500</td>\n      <td>...</td>\n      <td>18</td>\n      <td>0</td>\n      <td>0</td>\n      <td>970</td>\n      <td>False</td>\n      <td>False</td>\n      <td>None</td>\n      <td>{'start': {'asap': True, 'optimal': '2020-01-1...</td>\n      <td>{'placeId': 'ChIJMVU8ksryT0YRa62YHm3bL5Y', 'co...</td>\n      <td>[{'id': 888849, 'title': 'sp.jpg', 'fileType':...</td>\n    </tr>\n    <tr>\n      <th>9</th>\n      <td>SEK</td>\n      <td>False</td>\n      <td>150</td>\n      <td>False</td>\n      <td>normal</td>\n      <td>corridor</td>\n      <td>68815</td>\n      <td>{'en': 'https://bostad.blocket.se/rent/room-in...</td>\n      <td>None</td>\n      <td>3000</td>\n      <td>...</td>\n      <td>3</td>\n      <td>0</td>\n      <td>0</td>\n      <td>161</td>\n      <td>False</td>\n      <td>False</td>\n      <td>None</td>\n      <td>{'start': {'asap': False, 'optimal': '2020-01-...</td>\n      <td>{'placeId': 'ChIJ-3ko_oa9U0YRBup3E9lyMYA', 'co...</td>\n      <td>[{'id': 888728, 'title': 'IMG_20191201_092207....</td>\n    </tr>\n    <tr>\n      <th>10</th>\n      <td>SEK</td>\n      <td>False</td>\n      <td>225</td>\n      <td>False</td>\n      <td>normal</td>\n      <td>apartment</td>\n      <td>68803</td>\n      <td>{'en': 'https://bostad.blocket.se/rent/apartme...</td>\n      <td>None</td>\n      <td>4500</td>\n      <td>...</td>\n      <td>3</td>\n      <td>0</td>\n      <td>0</td>\n      <td>174</td>\n      <td>False</td>\n      <td>False</td>\n      <td>None</td>\n      <td>{'start': {'asap': False, 'optimal': '2020-01-...</td>\n      <td>{'placeId': 'ChIJSasothwzUkYR83wthF45tlw', 'co...</td>\n      <td>[{'id': 888624, 'title': 'IMG_1780.jpg', 'file...</td>\n    </tr>\n    <tr>\n      <th>11</th>\n      <td>SEK</td>\n      <td>False</td>\n      <td>375</td>\n      <td>False</td>\n      <td>normal</td>\n      <td>apartment</td>\n      <td>68496</td>\n      <td>{'en': 'https://bostad.blocket.se/rent/apartme...</td>\n      <td>None</td>\n      <td>7500</td>\n      <td>...</td>\n      <td>0</td>\n      <td>0</td>\n      <td>0</td>\n      <td>1</td>\n      <td>False</td>\n      <td>False</td>\n      <td>None</td>\n      <td>{'start': {'asap': False, 'optimal': '2020-03-...</td>\n      <td>{'placeId': 'ChIJt2mte8-RfEYRPRIm09VKdZE', 'co...</td>\n      <td>[]</td>\n    </tr>\n  </tbody>\n</table>\n<p>12 rows × 25 columns</p>\n</div>",
      "text/plain": "   currency  external  fee  firsthand homeStatus   homeType     id  \\\n0       SEK     False  247      False     normal  apartment  68845   \n1       SEK     False  550      False     normal  apartment  68818   \n2       SEK     False  398      False     normal  apartment  68842   \n3       SEK     False  400      False     normal  apartment  68846   \n4       SEK     False  680      False     normal  apartment  68793   \n5       SEK     False  231      False     normal  apartment  68499   \n6       SEK     False  285      False     normal  apartment  68837   \n7       SEK     False  129      False     normal  apartment  68822   \n8       SEK     False  375      False     normal  apartment  68831   \n9       SEK     False  150      False     normal   corridor  68815   \n10      SEK     False  225      False     normal  apartment  68803   \n11      SEK     False  375      False     normal  apartment  68496   \n\n                                                links origin   rent  ...  \\\n0   {'en': 'https://bostad.blocket.se/rent/apartme...   None   4938  ...   \n1   {'en': 'https://bostad.blocket.se/rent/apartme...   None  11000  ...   \n2   {'en': 'https://bostad.blocket.se/rent/apartme...   None   7950  ...   \n3   {'en': 'https://bostad.blocket.se/rent/apartme...   None   8000  ...   \n4   {'en': 'https://bostad.blocket.se/rent/apartme...   None  13600  ...   \n5   {'en': 'https://bostad.blocket.se/rent/apartme...   None   4628  ...   \n6   {'en': 'https://bostad.blocket.se/rent/apartme...   None   5700  ...   \n7   {'en': 'https://bostad.blocket.se/rent/room-in...   None   2588  ...   \n8   {'en': 'https://bostad.blocket.se/rent/apartme...   None   7500  ...   \n9   {'en': 'https://bostad.blocket.se/rent/room-in...   None   3000  ...   \n10  {'en': 'https://bostad.blocket.se/rent/apartme...   None   4500  ...   \n11  {'en': 'https://bostad.blocket.se/rent/apartme...   None   7500  ...   \n\n    applicationCount  inContactCount  declinedCount  matchingCount  \\\n0                  1               1              0              7   \n1                  2               0              0           1643   \n2                  0               0              0             31   \n3                  0               0              0             52   \n4                  0               0              0            179   \n5                  2               0              1             27   \n6                  0               0              0             30   \n7                  2               0              0             47   \n8                 18               0              0            970   \n9                  3               0              0            161   \n10                 3               0              0            174   \n11                 0               0              0              1   \n\n    safeRental  professional  landlordApplicationId  \\\n0        False         False                   None   \n1        False         False                   None   \n2        False         False                   None   \n3         True         False                   None   \n4        False         False                   None   \n5        False         False                   None   \n6        False         False                   None   \n7        False         False                   None   \n8        False         False                   None   \n9        False         False                   None   \n10       False         False                   None   \n11       False         False                   None   \n\n                                             duration  \\\n0   {'start': {'asap': False, 'optimal': '2020-03-...   \n1   {'start': {'asap': True, 'optimal': None}, 'en...   \n2   {'start': {'asap': True, 'optimal': '2020-01-0...   \n3   {'start': {'asap': False, 'optimal': '2020-01-...   \n4   {'start': {'asap': False, 'optimal': '2020-02-...   \n5   {'start': {'asap': False, 'optimal': '2020-01-...   \n6   {'start': {'asap': True, 'optimal': None}, 'en...   \n7   {'start': {'asap': True, 'optimal': None}, 'en...   \n8   {'start': {'asap': True, 'optimal': '2020-01-1...   \n9   {'start': {'asap': False, 'optimal': '2020-01-...   \n10  {'start': {'asap': False, 'optimal': '2020-01-...   \n11  {'start': {'asap': False, 'optimal': '2020-03-...   \n\n                                             location  \\\n0   {'placeId': 'ChIJ4ab_zOLuV0YRZR0gC65ihT8', 'co...   \n1   {'placeId': 'ChIJh7-kBfmdX0YRLAopkkKdmLs', 'co...   \n2   {'placeId': 'ChIJf7QlwhjvV0YRC67DPeBgM0I', 'co...   \n3   {'placeId': 'ChIJ0SZzf1hhXkYRZsPYATE7jOk', 'co...   \n4   {'placeId': 'ChIJp1-OpA_0T0YRnepcZHdrDOA', 'co...   \n5   {'placeId': 'ChIJi3qe7Q8rVkYRSE53qBWLe8w', 'co...   \n6   {'placeId': 'ChIJl4xUXwO3VkYR8WigUeKDUT4', 'co...   \n7   {'placeId': 'ChIJQ6E3H1dvWUYRATa3OAbAYBs', 'co...   \n8   {'placeId': 'ChIJMVU8ksryT0YRa62YHm3bL5Y', 'co...   \n9   {'placeId': 'ChIJ-3ko_oa9U0YRBup3E9lyMYA', 'co...   \n10  {'placeId': 'ChIJSasothwzUkYR83wthF45tlw', 'co...   \n11  {'placeId': 'ChIJt2mte8-RfEYRPRIm09VKdZE', 'co...   \n\n                                              uploads  \n0   [{'id': 888906, 'title': 'Jenn y Blom.png', 'f...  \n1   [{'id': 888761, 'title': 'IMG_7681.JPG', 'file...  \n2                                                  []  \n3   [{'id': 888908, 'title': 'House.jpg', 'fileTyp...  \n4   [{'id': 888302, 'title': '20191219_204236.jpg'...  \n5                                                  []  \n6   [{'id': 888859, 'title': 'IMG_2030.jpg', 'file...  \n7   [{'id': 888824, 'title': 'IMG_20191215_141853....  \n8   [{'id': 888849, 'title': 'sp.jpg', 'fileType':...  \n9   [{'id': 888728, 'title': 'IMG_20191201_092207....  \n10  [{'id': 888624, 'title': 'IMG_1780.jpg', 'file...  \n11                                                 []  \n\n[12 rows x 25 columns]"
     },
     "execution_count": 44,
     "metadata": {},
     "output_type": "execute_result"
    }
   ],
   "source": [
    "df"
   ]
  },
  {
   "cell_type": "code",
   "execution_count": 37,
   "metadata": {},
   "outputs": [
    {
     "data": {
      "text/plain": "{'currency': 'SEK',\n 'external': False,\n 'fee': 247,\n 'firsthand': False,\n 'homeStatus': 'normal',\n 'homeType': 'apartment',\n 'id': 68845,\n 'links': {'en': 'https://bostad.blocket.se/rent/apartment/fliserydsvagen-monsteras/68845',\n  'sv': 'https://bostad.blocket.se/hyra/lagenhet/fliserydsvagen-monsteras/68845'},\n 'origin': None,\n 'rent': 4938,\n 'recommendedRent': 6651,\n 'roomCount': 2,\n 'squareMeters': 63,\n 'shared': False,\n 'studentHome': False,\n 'applicationCount': 1,\n 'inContactCount': 1,\n 'declinedCount': 0,\n 'matchingCount': 7,\n 'safeRental': False,\n 'professional': False,\n 'landlordApplicationId': None,\n 'duration': {'start': {'asap': False, 'optimal': '2020-03-01T00:00:00.000Z'},\n  'end': {'ufn': True}},\n 'location': {'placeId': 'ChIJ4ab_zOLuV0YRZR0gC65ihT8',\n  'country': 'Sverige',\n  'countryCode': 'SE',\n  'locality': 'Mönsterås',\n  'postalCode': '38339',\n  'sublocality': None,\n  'route': 'Fliserydsvägen',\n  'streetNumber': '4',\n  'formattedAddress': 'Fliserydsvägen 4D, 383 39 Mönsterås, Sverige',\n  'shortName': None,\n  'latitude': '57.0504772',\n  'longitude': '16.437143'},\n 'uploads': [{'id': 888906,\n   'title': 'Jenn y Blom.png',\n   'fileType': 'image',\n   'uploadType': 'home_picture',\n   'url': 'https://qasa-static-prod.s3-eu-west-1.amazonaws.com/img/510d1ec2f97703ce873366041a0069a8f0c2fe9a3956e73ea1c11ba1f0ad3f74.png',\n   'metadata': {'order': None, 'rotation': None, 'primary': False}}]}"
     },
     "execution_count": 37,
     "metadata": {},
     "output_type": "execute_result"
    }
   ],
   "source": [
    "#len(sub['homes'])\n",
    "sub['homes'][0]"
   ]
  },
  {
   "cell_type": "code",
   "execution_count": 68,
   "metadata": {},
   "outputs": [],
   "source": [
    "data = [[\n",
    "sub['homes'][0]['id'],\n",
    "sub['homes'][0]['homeType'],\n",
    "sub['homes'][0]['rent'],\n",
    "sub['homes'][0]['recommendedRent'],\n",
    "sub['homes'][0]['roomCount'],\n",
    "sub['homes'][0]['squareMeters'],\n",
    "sub['homes'][0]['studentHome'],\n",
    "sub['homes'][0]['shared'],\n",
    "sub['homes'][0]['location']['latitude'],\n",
    "sub['homes'][0]['location']['longitude'],\n",
    "sub['homes'][0]['location']['locality'],\n",
    "sub['homes'][0]['location']['postalCode'],\n",
    "sub['homes'][0]['location']['route'],\n",
    "sub['homes'][0]['location']['streetNumber'],\n",
    "sub['homes'][0]['location']['formattedAddress']]]"
   ]
  },
  {
   "cell_type": "code",
   "execution_count": 49,
   "metadata": {},
   "outputs": [
    {
     "data": {
      "text/plain": "[68845,\n 4938,\n 'apartment',\n 6651,\n 2,\n 63,\n False,\n False,\n '57.0504772',\n '16.437143',\n 'Mönsterås',\n '38339',\n 'Fliserydsvägen',\n '4',\n 'Fliserydsvägen 4D, 383 39 Mönsterås, Sverige']"
     },
     "execution_count": 49,
     "metadata": {},
     "output_type": "execute_result"
    }
   ],
   "source": [
    "data"
   ]
  },
  {
   "cell_type": "code",
   "execution_count": 69,
   "metadata": {},
   "outputs": [],
   "source": [
    "df_test = pd.DataFrame(data, columns = ['id','homeType','rent','recommendedRent','roommCount','squareMeters','studentHome','shared','latitude','longitude','locality','postalCode','route','streetNumber','formattedAddress'])"
   ]
  },
  {
   "cell_type": "code",
   "execution_count": 70,
   "metadata": {},
   "outputs": [
    {
     "data": {
      "text/html": "<div>\n<style scoped>\n    .dataframe tbody tr th:only-of-type {\n        vertical-align: middle;\n    }\n\n    .dataframe tbody tr th {\n        vertical-align: top;\n    }\n\n    .dataframe thead th {\n        text-align: right;\n    }\n</style>\n<table border=\"1\" class=\"dataframe\">\n  <thead>\n    <tr style=\"text-align: right;\">\n      <th></th>\n      <th>id</th>\n      <th>homeType</th>\n      <th>rent</th>\n      <th>recommendedRent</th>\n      <th>roommCount</th>\n      <th>squareMeters</th>\n      <th>studentHome</th>\n      <th>shared</th>\n      <th>latitude</th>\n      <th>longitude</th>\n      <th>locality</th>\n      <th>postalCode</th>\n      <th>route</th>\n      <th>streetNumber</th>\n      <th>formattedAddress</th>\n    </tr>\n  </thead>\n  <tbody>\n    <tr>\n      <th>0</th>\n      <td>68845</td>\n      <td>apartment</td>\n      <td>4938</td>\n      <td>6651</td>\n      <td>2</td>\n      <td>63</td>\n      <td>False</td>\n      <td>False</td>\n      <td>57.0504772</td>\n      <td>16.437143</td>\n      <td>Mönsterås</td>\n      <td>38339</td>\n      <td>Fliserydsvägen</td>\n      <td>4</td>\n      <td>Fliserydsvägen 4D, 383 39 Mönsterås, Sverige</td>\n    </tr>\n  </tbody>\n</table>\n</div>",
      "text/plain": "      id   homeType  rent  recommendedRent  roommCount  squareMeters  \\\n0  68845  apartment  4938             6651           2            63   \n\n   studentHome  shared    latitude  longitude   locality postalCode  \\\n0        False   False  57.0504772  16.437143  Mönsterås      38339   \n\n            route streetNumber                              formattedAddress  \n0  Fliserydsvägen            4  Fliserydsvägen 4D, 383 39 Mönsterås, Sverige  "
     },
     "execution_count": 70,
     "metadata": {},
     "output_type": "execute_result"
    }
   ],
   "source": [
    "df_test"
   ]
  },
  {
   "cell_type": "code",
   "execution_count": 74,
   "metadata": {},
   "outputs": [
    {
     "data": {
      "text/html": "<div>\n<style scoped>\n    .dataframe tbody tr th:only-of-type {\n        vertical-align: middle;\n    }\n\n    .dataframe tbody tr th {\n        vertical-align: top;\n    }\n\n    .dataframe thead th {\n        text-align: right;\n    }\n</style>\n<table border=\"1\" class=\"dataframe\">\n  <thead>\n    <tr style=\"text-align: right;\">\n      <th></th>\n      <th>id</th>\n      <th>homeType</th>\n      <th>rent</th>\n      <th>recommendedRent</th>\n      <th>roommCount</th>\n      <th>squareMeters</th>\n      <th>studentHome</th>\n      <th>shared</th>\n      <th>latitude</th>\n      <th>longitude</th>\n      <th>locality</th>\n      <th>postalCode</th>\n      <th>route</th>\n      <th>streetNumber</th>\n      <th>formattedAddress</th>\n    </tr>\n  </thead>\n  <tbody>\n  </tbody>\n</table>\n</div>",
      "text/plain": "Empty DataFrame\nColumns: [id, homeType, rent, recommendedRent, roommCount, squareMeters, studentHome, shared, latitude, longitude, locality, postalCode, route, streetNumber, formattedAddress]\nIndex: []"
     },
     "execution_count": 74,
     "metadata": {},
     "output_type": "execute_result"
    }
   ],
   "source": [
    "df = pd.DataFrame(columns = ['id','homeType','rent','recommendedRent','roommCount','squareMeters','studentHome','shared','latitude','longitude','locality','postalCode','route','streetNumber','formattedAddress'])\n",
    "df"
   ]
  },
  {
   "cell_type": "code",
   "execution_count": 93,
   "metadata": {},
   "outputs": [],
   "source": [
    "home_list =[]\n",
    "for sub in json_list:\n",
    "    #print(sub)\n",
    "\n",
    "    for home in sub['homes']:\n",
    "        home_data = [\n",
    "            home['id'],\n",
    "            home['homeType'],\n",
    "            home['rent'],\n",
    "            home['recommendedRent'],\n",
    "            home['roomCount'],\n",
    "            home['squareMeters'],\n",
    "            home['studentHome'],\n",
    "            home['shared'],\n",
    "            home['location']['latitude'],\n",
    "            home['location']['longitude'],\n",
    "            home['location']['locality'],\n",
    "            home['location']['postalCode'],\n",
    "            home['location']['route'],\n",
    "            home['location']['streetNumber'],\n",
    "            home['location']['formattedAddress']\n",
    "        ]\n",
    "        home_list.append(home_data)\n",
    "        \n",
    "    #df = pd.DataFrame.from_dict(sub['homes'])\n",
    "    #d = json.loads(sub)\n",
    "   # print(d)\n",
    "    #df = pd.read_json(d)\n",
    "    \n",
    "home_list\n",
    "df = pd.DataFrame(home_list, columns = ['id','homeType','rent','recommendedRent','roommCount','squareMeters','studentHome','shared','latitude','longitude','locality','postalCode','route','streetNumber','formattedAddress'])\n",
    "\n"
   ]
  },
  {
   "cell_type": "code",
   "execution_count": 94,
   "metadata": {},
   "outputs": [
    {
     "data": {
      "text/html": "<div>\n<style scoped>\n    .dataframe tbody tr th:only-of-type {\n        vertical-align: middle;\n    }\n\n    .dataframe tbody tr th {\n        vertical-align: top;\n    }\n\n    .dataframe thead th {\n        text-align: right;\n    }\n</style>\n<table border=\"1\" class=\"dataframe\">\n  <thead>\n    <tr style=\"text-align: right;\">\n      <th></th>\n      <th>id</th>\n      <th>homeType</th>\n      <th>rent</th>\n      <th>recommendedRent</th>\n      <th>roommCount</th>\n      <th>squareMeters</th>\n      <th>studentHome</th>\n      <th>shared</th>\n      <th>latitude</th>\n      <th>longitude</th>\n      <th>locality</th>\n      <th>postalCode</th>\n      <th>route</th>\n      <th>streetNumber</th>\n      <th>formattedAddress</th>\n    </tr>\n  </thead>\n  <tbody>\n    <tr>\n      <th>0</th>\n      <td>68845</td>\n      <td>apartment</td>\n      <td>4938</td>\n      <td>6651</td>\n      <td>2.0</td>\n      <td>63</td>\n      <td>False</td>\n      <td>False</td>\n      <td>57.0504772</td>\n      <td>16.437143</td>\n      <td>Mönsterås</td>\n      <td>38339</td>\n      <td>Fliserydsvägen</td>\n      <td>4</td>\n      <td>Fliserydsvägen 4D, 383 39 Mönsterås, Sverige</td>\n    </tr>\n    <tr>\n      <th>1</th>\n      <td>68818</td>\n      <td>apartment</td>\n      <td>11000</td>\n      <td>10076</td>\n      <td>1.5</td>\n      <td>34</td>\n      <td>False</td>\n      <td>False</td>\n      <td>59.345287</td>\n      <td>17.9614869</td>\n      <td>Stockholm</td>\n      <td>Bromma</td>\n      <td>Norrbyvägen</td>\n      <td>16</td>\n      <td>Norrbyvägen 16, 168 69 Bromma, Sverige</td>\n    </tr>\n    <tr>\n      <th>2</th>\n      <td>68842</td>\n      <td>apartment</td>\n      <td>7950</td>\n      <td>8783</td>\n      <td>4.0</td>\n      <td>90</td>\n      <td>False</td>\n      <td>False</td>\n      <td>57.039853</td>\n      <td>16.4449374</td>\n      <td>Mönsterås</td>\n      <td>38330</td>\n      <td>Skolgatan</td>\n      <td>10</td>\n      <td>Skolgatan 10, 383 30 Mönsterås, Sverige</td>\n    </tr>\n    <tr>\n      <th>3</th>\n      <td>68846</td>\n      <td>apartment</td>\n      <td>8000</td>\n      <td>8502</td>\n      <td>3.0</td>\n      <td>68</td>\n      <td>False</td>\n      <td>False</td>\n      <td>59.6197193</td>\n      <td>16.5057662</td>\n      <td>Västerås</td>\n      <td>724 80</td>\n      <td>Portlidervägen</td>\n      <td>2</td>\n      <td>Portlidervägen, 724 80 Västerås, Sverige</td>\n    </tr>\n    <tr>\n      <th>4</th>\n      <td>68793</td>\n      <td>apartment</td>\n      <td>13600</td>\n      <td>10597</td>\n      <td>3.0</td>\n      <td>62</td>\n      <td>False</td>\n      <td>False</td>\n      <td>57.7161161</td>\n      <td>12.0477401</td>\n      <td>Göteborg</td>\n      <td>416 80</td>\n      <td>Stabbegatan</td>\n      <td>59</td>\n      <td>Stabbegatan, 416 80 Göteborg, Sverige</td>\n    </tr>\n    <tr>\n      <th>...</th>\n      <td>...</td>\n      <td>...</td>\n      <td>...</td>\n      <td>...</td>\n      <td>...</td>\n      <td>...</td>\n      <td>...</td>\n      <td>...</td>\n      <td>...</td>\n      <td>...</td>\n      <td>...</td>\n      <td>...</td>\n      <td>...</td>\n      <td>...</td>\n      <td>...</td>\n    </tr>\n    <tr>\n      <th>7339</th>\n      <td>31034</td>\n      <td>house</td>\n      <td>11000</td>\n      <td>11320</td>\n      <td>5.0</td>\n      <td>95</td>\n      <td>False</td>\n      <td>False</td>\n      <td>59.409753</td>\n      <td>16.080113</td>\n      <td>Kungsör</td>\n      <td>736 91</td>\n      <td>Slokärrsvägen</td>\n      <td>9</td>\n      <td>Slokärrsvägen, 736 91 Kungsör, Sverige</td>\n    </tr>\n    <tr>\n      <th>7340</th>\n      <td>30233</td>\n      <td>apartment</td>\n      <td>9400</td>\n      <td>8067</td>\n      <td>1.0</td>\n      <td>9</td>\n      <td>False</td>\n      <td>True</td>\n      <td>59.3527994</td>\n      <td>18.0029748</td>\n      <td>Solna</td>\n      <td>17159</td>\n      <td>Infanterigatan</td>\n      <td>6</td>\n      <td>Infanterigatan 6, 171 71 Solna, Sverige</td>\n    </tr>\n    <tr>\n      <th>7341</th>\n      <td>30777</td>\n      <td>apartment</td>\n      <td>4700</td>\n      <td>5411</td>\n      <td>1.0</td>\n      <td>21</td>\n      <td>False</td>\n      <td>True</td>\n      <td>55.7043384</td>\n      <td>13.1732748</td>\n      <td>Lund</td>\n      <td>22731</td>\n      <td>Trastvägen</td>\n      <td>10</td>\n      <td>Trastvägen 10, 227 31 Lund, Sverige</td>\n    </tr>\n    <tr>\n      <th>7342</th>\n      <td>30769</td>\n      <td>apartment</td>\n      <td>9400</td>\n      <td>8145</td>\n      <td>1.0</td>\n      <td>10</td>\n      <td>False</td>\n      <td>True</td>\n      <td>59.3527994</td>\n      <td>18.0029748</td>\n      <td>Solna</td>\n      <td>17159</td>\n      <td>Infanterigatan</td>\n      <td>6</td>\n      <td>Infanterigatan 6, 171 71 Solna, Sverige</td>\n    </tr>\n    <tr>\n      <th>7343</th>\n      <td>30077</td>\n      <td>terrace_house</td>\n      <td>21500</td>\n      <td>20304</td>\n      <td>7.0</td>\n      <td>140</td>\n      <td>False</td>\n      <td>True</td>\n      <td>59.5279635</td>\n      <td>17.940036</td>\n      <td>Upplands Väsby</td>\n      <td>194 55</td>\n      <td>Torstunagränd</td>\n      <td>24</td>\n      <td>Torstunagränd, 194 55 Upplands Väsby, Sverige</td>\n    </tr>\n  </tbody>\n</table>\n<p>7344 rows × 15 columns</p>\n</div>",
      "text/plain": "         id       homeType   rent  recommendedRent  roommCount  squareMeters  \\\n0     68845      apartment   4938             6651         2.0            63   \n1     68818      apartment  11000            10076         1.5            34   \n2     68842      apartment   7950             8783         4.0            90   \n3     68846      apartment   8000             8502         3.0            68   \n4     68793      apartment  13600            10597         3.0            62   \n...     ...            ...    ...              ...         ...           ...   \n7339  31034          house  11000            11320         5.0            95   \n7340  30233      apartment   9400             8067         1.0             9   \n7341  30777      apartment   4700             5411         1.0            21   \n7342  30769      apartment   9400             8145         1.0            10   \n7343  30077  terrace_house  21500            20304         7.0           140   \n\n      studentHome  shared    latitude   longitude        locality postalCode  \\\n0           False   False  57.0504772   16.437143       Mönsterås      38339   \n1           False   False   59.345287  17.9614869       Stockholm     Bromma   \n2           False   False   57.039853  16.4449374       Mönsterås      38330   \n3           False   False  59.6197193  16.5057662        Västerås     724 80   \n4           False   False  57.7161161  12.0477401        Göteborg     416 80   \n...           ...     ...         ...         ...             ...        ...   \n7339        False   False   59.409753   16.080113         Kungsör     736 91   \n7340        False    True  59.3527994  18.0029748           Solna      17159   \n7341        False    True  55.7043384  13.1732748            Lund      22731   \n7342        False    True  59.3527994  18.0029748           Solna      17159   \n7343        False    True  59.5279635   17.940036  Upplands Väsby     194 55   \n\n               route streetNumber  \\\n0     Fliserydsvägen            4   \n1        Norrbyvägen           16   \n2          Skolgatan           10   \n3     Portlidervägen            2   \n4        Stabbegatan           59   \n...              ...          ...   \n7339  Slokärrsvägen             9   \n7340  Infanterigatan            6   \n7341      Trastvägen           10   \n7342  Infanterigatan            6   \n7343   Torstunagränd           24   \n\n                                   formattedAddress  \n0      Fliserydsvägen 4D, 383 39 Mönsterås, Sverige  \n1            Norrbyvägen 16, 168 69 Bromma, Sverige  \n2           Skolgatan 10, 383 30 Mönsterås, Sverige  \n3          Portlidervägen, 724 80 Västerås, Sverige  \n4             Stabbegatan, 416 80 Göteborg, Sverige  \n...                                             ...  \n7339         Slokärrsvägen, 736 91 Kungsör, Sverige  \n7340        Infanterigatan 6, 171 71 Solna, Sverige  \n7341            Trastvägen 10, 227 31 Lund, Sverige  \n7342        Infanterigatan 6, 171 71 Solna, Sverige  \n7343  Torstunagränd, 194 55 Upplands Väsby, Sverige  \n\n[7344 rows x 15 columns]"
     },
     "execution_count": 94,
     "metadata": {},
     "output_type": "execute_result"
    }
   ],
   "source": [
    "df"
   ]
  },
  {
   "cell_type": "code",
   "execution_count": 102,
   "metadata": {},
   "outputs": [
    {
     "data": {
      "text/html": "<div>\n<style scoped>\n    .dataframe tbody tr th:only-of-type {\n        vertical-align: middle;\n    }\n\n    .dataframe tbody tr th {\n        vertical-align: top;\n    }\n\n    .dataframe thead th {\n        text-align: right;\n    }\n</style>\n<table border=\"1\" class=\"dataframe\">\n  <thead>\n    <tr style=\"text-align: right;\">\n      <th></th>\n      <th>id</th>\n      <th>homeType</th>\n      <th>rent</th>\n      <th>recommendedRent</th>\n      <th>roommCount</th>\n      <th>squareMeters</th>\n      <th>studentHome</th>\n      <th>shared</th>\n      <th>latitude</th>\n      <th>longitude</th>\n      <th>locality</th>\n      <th>postalCode</th>\n      <th>route</th>\n      <th>streetNumber</th>\n      <th>formattedAddress</th>\n    </tr>\n  </thead>\n  <tbody>\n    <tr>\n      <th>1</th>\n      <td>68818</td>\n      <td>apartment</td>\n      <td>11000</td>\n      <td>10076</td>\n      <td>1.5</td>\n      <td>34</td>\n      <td>False</td>\n      <td>False</td>\n      <td>59.345287</td>\n      <td>17.9614869</td>\n      <td>Stockholm</td>\n      <td>Bromma</td>\n      <td>Norrbyvägen</td>\n      <td>16</td>\n      <td>Norrbyvägen 16, 168 69 Bromma, Sverige</td>\n    </tr>\n    <tr>\n      <th>17</th>\n      <td>68811</td>\n      <td>apartment</td>\n      <td>16800</td>\n      <td>14585</td>\n      <td>2.0</td>\n      <td>40</td>\n      <td>False</td>\n      <td>False</td>\n      <td>59.3411685</td>\n      <td>18.0614986</td>\n      <td>Stockholm</td>\n      <td>113 57</td>\n      <td>Rådmansgatan</td>\n      <td>46</td>\n      <td>Rådmansgatan, Stockholm, Sverige</td>\n    </tr>\n    <tr>\n      <th>20</th>\n      <td>68795</td>\n      <td>apartment</td>\n      <td>14000</td>\n      <td>13105</td>\n      <td>2.0</td>\n      <td>55</td>\n      <td>False</td>\n      <td>False</td>\n      <td>59.3481568</td>\n      <td>17.9980398</td>\n      <td>Solna</td>\n      <td>17171</td>\n      <td>Armégatan</td>\n      <td>27</td>\n      <td>Armégatan 27, 171 71 Solna, Sverige</td>\n    </tr>\n    <tr>\n      <th>22</th>\n      <td>68796</td>\n      <td>apartment</td>\n      <td>4000</td>\n      <td>7232</td>\n      <td>1.0</td>\n      <td>25</td>\n      <td>False</td>\n      <td>True</td>\n      <td>59.6310531</td>\n      <td>17.8251871</td>\n      <td>Märsta</td>\n      <td>195 33</td>\n      <td>Odalvägen</td>\n      <td>Odalvägen, 2</td>\n      <td>Odalvägen, 195 33 Märsta, Sverige</td>\n    </tr>\n    <tr>\n      <th>23</th>\n      <td>68801</td>\n      <td>apartment</td>\n      <td>16000</td>\n      <td>12701</td>\n      <td>2.0</td>\n      <td>52</td>\n      <td>False</td>\n      <td>False</td>\n      <td>59.2813206</td>\n      <td>18.0078616</td>\n      <td>Stockholm</td>\n      <td>125 44</td>\n      <td>Sandalettgatan</td>\n      <td>3</td>\n      <td>Sandalettgatan, 125 44 Stockholm, Sverige</td>\n    </tr>\n    <tr>\n      <th>...</th>\n      <td>...</td>\n      <td>...</td>\n      <td>...</td>\n      <td>...</td>\n      <td>...</td>\n      <td>...</td>\n      <td>...</td>\n      <td>...</td>\n      <td>...</td>\n      <td>...</td>\n      <td>...</td>\n      <td>...</td>\n      <td>...</td>\n      <td>...</td>\n      <td>...</td>\n    </tr>\n    <tr>\n      <th>7325</th>\n      <td>35180</td>\n      <td>apartment</td>\n      <td>14500</td>\n      <td>12567</td>\n      <td>2.0</td>\n      <td>50</td>\n      <td>False</td>\n      <td>True</td>\n      <td>59.2926538</td>\n      <td>17.9839358</td>\n      <td>Hägersten</td>\n      <td>129 31</td>\n      <td>Inteckningsvägen</td>\n      <td>5</td>\n      <td>Inteckningsvägen, 129 31 Stockholm, Sverige</td>\n    </tr>\n    <tr>\n      <th>7326</th>\n      <td>35179</td>\n      <td>apartment</td>\n      <td>14000</td>\n      <td>12567</td>\n      <td>2.0</td>\n      <td>50</td>\n      <td>False</td>\n      <td>False</td>\n      <td>59.2926538</td>\n      <td>17.9839358</td>\n      <td>Hägersten</td>\n      <td>129 34</td>\n      <td>Inteckningsvägen</td>\n      <td>7</td>\n      <td>Inteckningsvägen, 129 31 Stockholm, Sverige</td>\n    </tr>\n    <tr>\n      <th>7338</th>\n      <td>32663</td>\n      <td>terrace_house</td>\n      <td>23000</td>\n      <td>26317</td>\n      <td>6.0</td>\n      <td>150</td>\n      <td>False</td>\n      <td>False</td>\n      <td>59.3825705</td>\n      <td>18.0041996</td>\n      <td>Solna</td>\n      <td>170 67</td>\n      <td>Paradgatan</td>\n      <td>15</td>\n      <td>Paradgatan, 170 67 Solna, Sverige</td>\n    </tr>\n    <tr>\n      <th>7340</th>\n      <td>30233</td>\n      <td>apartment</td>\n      <td>9400</td>\n      <td>8067</td>\n      <td>1.0</td>\n      <td>9</td>\n      <td>False</td>\n      <td>True</td>\n      <td>59.3527994</td>\n      <td>18.0029748</td>\n      <td>Solna</td>\n      <td>17159</td>\n      <td>Infanterigatan</td>\n      <td>6</td>\n      <td>Infanterigatan 6, 171 71 Solna, Sverige</td>\n    </tr>\n    <tr>\n      <th>7342</th>\n      <td>30769</td>\n      <td>apartment</td>\n      <td>9400</td>\n      <td>8145</td>\n      <td>1.0</td>\n      <td>10</td>\n      <td>False</td>\n      <td>True</td>\n      <td>59.3527994</td>\n      <td>18.0029748</td>\n      <td>Solna</td>\n      <td>17159</td>\n      <td>Infanterigatan</td>\n      <td>6</td>\n      <td>Infanterigatan 6, 171 71 Solna, Sverige</td>\n    </tr>\n  </tbody>\n</table>\n<p>1203 rows × 15 columns</p>\n</div>",
      "text/plain": "         id       homeType   rent  recommendedRent  roommCount  squareMeters  \\\n1     68818      apartment  11000            10076         1.5            34   \n17    68811      apartment  16800            14585         2.0            40   \n20    68795      apartment  14000            13105         2.0            55   \n22    68796      apartment   4000             7232         1.0            25   \n23    68801      apartment  16000            12701         2.0            52   \n...     ...            ...    ...              ...         ...           ...   \n7325  35180      apartment  14500            12567         2.0            50   \n7326  35179      apartment  14000            12567         2.0            50   \n7338  32663  terrace_house  23000            26317         6.0           150   \n7340  30233      apartment   9400             8067         1.0             9   \n7342  30769      apartment   9400             8145         1.0            10   \n\n      studentHome  shared    latitude   longitude   locality postalCode  \\\n1           False   False   59.345287  17.9614869  Stockholm     Bromma   \n17          False   False  59.3411685  18.0614986  Stockholm     113 57   \n20          False   False  59.3481568  17.9980398      Solna      17171   \n22          False    True  59.6310531  17.8251871     Märsta     195 33   \n23          False   False  59.2813206  18.0078616  Stockholm     125 44   \n...           ...     ...         ...         ...        ...        ...   \n7325        False    True  59.2926538  17.9839358  Hägersten     129 31   \n7326        False   False  59.2926538  17.9839358  Hägersten     129 34   \n7338        False   False  59.3825705  18.0041996      Solna     170 67   \n7340        False    True  59.3527994  18.0029748      Solna      17159   \n7342        False    True  59.3527994  18.0029748      Solna      17159   \n\n                 route  streetNumber  \\\n1          Norrbyvägen            16   \n17        Rådmansgatan            46   \n20           Armégatan            27   \n22           Odalvägen  Odalvägen, 2   \n23      Sandalettgatan             3   \n...                ...           ...   \n7325  Inteckningsvägen             5   \n7326  Inteckningsvägen             7   \n7338        Paradgatan            15   \n7340    Infanterigatan             6   \n7342    Infanterigatan             6   \n\n                                 formattedAddress  \n1          Norrbyvägen 16, 168 69 Bromma, Sverige  \n17               Rådmansgatan, Stockholm, Sverige  \n20            Armégatan 27, 171 71 Solna, Sverige  \n22              Odalvägen, 195 33 Märsta, Sverige  \n23      Sandalettgatan, 125 44 Stockholm, Sverige  \n...                                           ...  \n7325  Inteckningsvägen, 129 31 Stockholm, Sverige  \n7326  Inteckningsvägen, 129 31 Stockholm, Sverige  \n7338            Paradgatan, 170 67 Solna, Sverige  \n7340      Infanterigatan 6, 171 71 Solna, Sverige  \n7342      Infanterigatan 6, 171 71 Solna, Sverige  \n\n[1203 rows x 15 columns]"
     },
     "execution_count": 102,
     "metadata": {},
     "output_type": "execute_result"
    }
   ],
   "source": [
    "stockholm ={'Stockholm', 'Solna', 'Märsta', 'Årsta', 'Tyresö', 'Märsta', 'Djursholm', 'Sundbyberg', 'Norsborg', 'Tumba', 'Spånga', 'Farsta', 'Hägersten'}\n",
    "df[df['locality'].isin(stockholm)]\n",
    "# this should be done with coords because the data is not reliable"
   ]
  },
  {
   "cell_type": "code",
   "execution_count": 100,
   "metadata": {},
   "outputs": [],
   "source": [
    "local_unique = df['locality'].unique()"
   ]
  },
  {
   "cell_type": "code",
   "execution_count": null,
   "metadata": {},
   "outputs": [],
   "source": [
    "df.sort_values(by='postalCode')"
   ]
  }
 ]
}